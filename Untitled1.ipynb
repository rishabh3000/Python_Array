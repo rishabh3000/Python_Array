{
 "cells": [
  {
   "cell_type": "markdown",
   "metadata": {},
   "source": [
    "# Sum Of array values\n",
    "    "
   ]
  },
  {
   "cell_type": "code",
   "execution_count": 1,
   "metadata": {},
   "outputs": [
    {
     "name": "stdout",
     "output_type": "stream",
     "text": [
      "530\n"
     ]
    }
   ],
   "source": [
    "def array(arr):\n",
    "    b=0\n",
    "    for i in (arr):\n",
    "        b+=i\n",
    "        \n",
    "    return b\n",
    "\n",
    "arr=[20,30,456,24]\n",
    "print(array(arr))"
   ]
  },
  {
   "cell_type": "markdown",
   "metadata": {},
   "source": [
    "# Numbers of Duplicates value in Array"
   ]
  },
  {
   "cell_type": "code",
   "execution_count": 2,
   "metadata": {},
   "outputs": [
    {
     "name": "stdout",
     "output_type": "stream",
     "text": [
      "3\n"
     ]
    }
   ],
   "source": [
    "def duplicate(arr,target):\n",
    "    count=0\n",
    "    for i in arr:\n",
    "        if i ==target:\n",
    "            count+=1\n",
    "    return count\n",
    "arr=[2,3,4,4,4,5]\n",
    "print(duplicate(arr,4))"
   ]
  },
  {
   "cell_type": "markdown",
   "metadata": {},
   "source": [
    "# Duplicate in Array"
   ]
  },
  {
   "cell_type": "code",
   "execution_count": 3,
   "metadata": {},
   "outputs": [
    {
     "name": "stdout",
     "output_type": "stream",
     "text": [
      "4\n"
     ]
    }
   ],
   "source": [
    "def dup(arr):\n",
    "    find=dict()\n",
    "    for i in range(len(arr)):\n",
    "        if(arr[i] in find):\n",
    "            find[arr[i]]+=1\n",
    "        else:\n",
    "            find[arr[i]]=1\n",
    "    for i in find:\n",
    "        if(find[i]>=2):\n",
    "            return i\n",
    "        \n",
    "arr=[3,2,4,4,5]\n",
    "print(dup(arr))"
   ]
  },
  {
   "cell_type": "code",
   "execution_count": null,
   "metadata": {},
   "outputs": [],
   "source": []
  }
 ],
 "metadata": {
  "kernelspec": {
   "display_name": "Python 3",
   "language": "python",
   "name": "python3"
  },
  "language_info": {
   "codemirror_mode": {
    "name": "ipython",
    "version": 3
   },
   "file_extension": ".py",
   "mimetype": "text/x-python",
   "name": "python",
   "nbconvert_exporter": "python",
   "pygments_lexer": "ipython3",
   "version": "3.8.3"
  }
 },
 "nbformat": 4,
 "nbformat_minor": 4
}
